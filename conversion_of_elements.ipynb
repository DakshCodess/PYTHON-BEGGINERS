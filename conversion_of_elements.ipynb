{
  "nbformat": 4,
  "nbformat_minor": 0,
  "metadata": {
    "colab": {
      "private_outputs": true,
      "provenance": [],
      "authorship_tag": "ABX9TyPEG/Dt1B1vfhRQplA4Fhxf",
      "include_colab_link": true
    },
    "kernelspec": {
      "name": "python3",
      "display_name": "Python 3"
    },
    "language_info": {
      "name": "python"
    },
    "gpuClass": "standard"
  },
  "cells": [
    {
      "cell_type": "markdown",
      "metadata": {
        "id": "view-in-github",
        "colab_type": "text"
      },
      "source": [
        "<a href=\"https://colab.research.google.com/github/DakshCodess/elements-conversion/blob/main/conversion_of_elements.ipynb\" target=\"_parent\"><img src=\"https://colab.research.google.com/assets/colab-badge.svg\" alt=\"Open In Colab\"/></a>"
      ]
    },
    {
      "cell_type": "code",
      "execution_count": null,
      "metadata": {
        "id": "xQBCT_0Fi3n6"
      },
      "outputs": [],
      "source": [
        "a=10.5\n",
        "print((a), type(a))\n",
        "\n",
        "b=int(a)\n",
        "print((b), type(b))"
      ]
    },
    {
      "cell_type": "code",
      "source": [
        "a='10'\n",
        "print((a), type(a))\n",
        "\n",
        "b=int(a)\n",
        "print((b), type(b))"
      ],
      "metadata": {
        "id": "KvYE7p2xj8lY"
      },
      "execution_count": null,
      "outputs": []
    },
    {
      "cell_type": "code",
      "source": [
        "a=True\n",
        "print((a), type(a))\n",
        "\n",
        "b=int(a)\n",
        "print((b), type(b))"
      ],
      "metadata": {
        "id": "zXUhOz9JkTSG"
      },
      "execution_count": null,
      "outputs": []
    },
    {
      "cell_type": "code",
      "source": [
        "a=10\n",
        "print((a), type(a))\n",
        "\n",
        "b=float(a)\n",
        "print((b), type(b))"
      ],
      "metadata": {
        "id": "oVDYRktkku1r"
      },
      "execution_count": null,
      "outputs": []
    },
    {
      "cell_type": "code",
      "source": [
        "a=False\n",
        "print((a), type(a))\n",
        "\n",
        "b=float(a)\n",
        "print((b), type(b))"
      ],
      "metadata": {
        "id": "MBENa3dhlHC_"
      },
      "execution_count": null,
      "outputs": []
    },
    {
      "cell_type": "code",
      "source": [
        "a=10\n",
        "print((a), type(a))\n",
        "\n",
        "b=str(a)\n",
        "print((b), type(b))"
      ],
      "metadata": {
        "id": "yDClGdMglvCH"
      },
      "execution_count": null,
      "outputs": []
    },
    {
      "cell_type": "code",
      "source": [
        "a=10.5\n",
        "print((a), type(a))\n",
        "\n",
        "b=str(a)\n",
        "print((b), type(b))"
      ],
      "metadata": {
        "id": "wIpAfEWslHFr"
      },
      "execution_count": null,
      "outputs": []
    },
    {
      "cell_type": "code",
      "source": [
        "a=True\n",
        "print((a), type(a))\n",
        "\n",
        "b=str(a)\n",
        "print((b), type(b))"
      ],
      "metadata": {
        "id": "QTqv9bvClHH4"
      },
      "execution_count": null,
      "outputs": []
    },
    {
      "cell_type": "code",
      "source": [
        "s1='Python'\n",
        "print((s1), type(s1))\n",
        "\n",
        "list=list(s1)\n",
        "print((list), type(list))"
      ],
      "metadata": {
        "id": "LwImAcIolHKb"
      },
      "execution_count": null,
      "outputs": []
    },
    {
      "cell_type": "code",
      "source": [],
      "metadata": {
        "id": "A_qpUvT-kibq"
      },
      "execution_count": null,
      "outputs": []
    }
  ]
}